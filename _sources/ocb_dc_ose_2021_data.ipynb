{
 "cells": [
  {
   "cell_type": "markdown",
   "id": "de3ee7c1",
   "metadata": {},
   "source": [
    "# Data Access for the Oceanbench v2 datachallenge demo\n",
    "\n",
    "\n",
    "## Reusing processing steps and reproducing data preparation\n",
    "\n",
    "### Use the configured `ocb-dc_ose_2021-input_data` pipeline\n",
    "![](imgs/data_doc.png)\n",
    "\n",
    "#### Reproduce processing of single satellite"
   ]
  },
  {
   "cell_type": "code",
   "execution_count": null,
   "id": "aa9c47e0",
   "metadata": {
    "tags": [
     "scroll-output"
    ]
   },
   "outputs": [],
   "source": [
    "!ocb-dc_ose_2021-input_data params.sat=j2g"
   ]
  },
  {
   "cell_type": "code",
   "execution_count": null,
   "id": "f8f68b8e",
   "metadata": {},
   "outputs": [],
   "source": [
    "import xarray as xr\n",
    "ds = xr.open_mfdataset('data/prepared/input/*.nc', combine='nested',concat_dim='time')\n",
    "ds"
   ]
  },
  {
   "cell_type": "code",
   "execution_count": null,
   "id": "1fa8a582",
   "metadata": {},
   "outputs": [],
   "source": [
    "# 2D map\n",
    "bin_size = 1/20\n",
    "(\n",
    "    ds.sel(time='2017-08-01').assign(\n",
    "        lat=ds.lat / bin_size // 1 * bin_size,\n",
    "        lon=ds.lon / bin_size // 1 * bin_size\n",
    "    )[['ssh', 'lat', 'lon']].load()\n",
    "    .drop_vars('time')\n",
    "    .to_dataframe()\n",
    "    .groupby(['lat', 'lon']).mean()\n",
    "    .to_xarray()\n",
    ").ssh.plot()"
   ]
  },
  {
   "cell_type": "markdown",
   "id": "4cc3ed7a",
   "metadata": {},
   "source": [
    "#### Dry (without actual execution) run for all satellites"
   ]
  },
  {
   "cell_type": "code",
   "execution_count": null,
   "id": "044f0c82",
   "metadata": {},
   "outputs": [],
   "source": [
    "!ocb-dc_ose_2021-input_data --multirun dry=True"
   ]
  },
  {
   "cell_type": "markdown",
   "id": "8198cb51",
   "metadata": {},
   "source": [
    "## Downloading versioned and preprocessed data\n",
    "\n",
    "### Listing datachallenge content"
   ]
  },
  {
   "cell_type": "code",
   "execution_count": null,
   "id": "b64b23da",
   "metadata": {},
   "outputs": [],
   "source": [
    "# Storing the repo url for convenience\n",
    "%env DC_REPO=https://github.com/quentinf00/ocb-dc-ose-2021.git"
   ]
  },
  {
   "cell_type": "code",
   "execution_count": null,
   "id": "ac4fe1ed",
   "metadata": {},
   "outputs": [],
   "source": [
    "# Listing and pretty printing all files of the datachallenge\n",
    "!dvc ls -R $DC_REPO datachallenge/data \\\n",
    "| tree --fromfile"
   ]
  },
  {
   "cell_type": "markdown",
   "id": "850ebb24",
   "metadata": {},
   "source": [
    "### Downloading prepared input data"
   ]
  },
  {
   "cell_type": "code",
   "execution_count": null,
   "id": "0b9e4a08",
   "metadata": {},
   "outputs": [],
   "source": [
    "!dvc get -q $DC_REPO datachallenge/data/prepared/input"
   ]
  },
  {
   "cell_type": "code",
   "execution_count": null,
   "id": "ee111712",
   "metadata": {},
   "outputs": [],
   "source": [
    "!tree input"
   ]
  },
  {
   "cell_type": "markdown",
   "id": "407068cc",
   "metadata": {},
   "source": [
    "### Visualize input data"
   ]
  },
  {
   "cell_type": "code",
   "execution_count": null,
   "id": "9a5103e6",
   "metadata": {},
   "outputs": [],
   "source": [
    "ds = xr.open_mfdataset('input/*.nc', combine='nested',concat_dim='time')\n",
    "ds"
   ]
  },
  {
   "cell_type": "code",
   "execution_count": null,
   "id": "e1745992",
   "metadata": {},
   "outputs": [],
   "source": [
    "# 2D map\n",
    "bin_size = 1/20\n",
    "(\n",
    "    ds.sel(time='2017-08-01').assign(\n",
    "        lat=ds.lat / bin_size // 1 * bin_size,\n",
    "        lon=ds.lon / bin_size // 1 * bin_size\n",
    "    )[['ssh', 'lat', 'lon']].load()\n",
    "    .drop_vars('time')\n",
    "    .to_dataframe()\n",
    "    .groupby(['lat', 'lon']).mean()\n",
    "    .to_xarray()\n",
    ").ssh.plot()"
   ]
  },
  {
   "cell_type": "markdown",
   "id": "88f125f5",
   "metadata": {},
   "source": [
    "### Checking generated data VS downloaded"
   ]
  },
  {
   "cell_type": "code",
   "execution_count": null,
   "id": "a456c04b",
   "metadata": {},
   "outputs": [],
   "source": [
    "xr.testing.assert_allclose(\n",
    "    xr.open_dataset('data/prepared/input/j2g.nc'),\n",
    "    xr.open_dataset('input/j2g.nc'),\n",
    ")\n",
    "print(\"Successful reproduction\")"
   ]
  },
  {
   "cell_type": "markdown",
   "id": "927d2fcc",
   "metadata": {},
   "source": [
    "### More on pipeline usage (help, doc, ...)"
   ]
  },
  {
   "cell_type": "code",
   "execution_count": null,
   "id": "3106365a",
   "metadata": {},
   "outputs": [],
   "source": [
    "!ocb-dc_ose_2021-input_data --help"
   ]
  },
  {
   "cell_type": "code",
   "execution_count": null,
   "id": "8f101295",
   "metadata": {},
   "outputs": [],
   "source": [
    "!ocb-dc_ose_2021-input_data params.sat=alg dry=True 'hydra.verbose=[aprl.appareil]'"
   ]
  }
 ],
 "metadata": {
  "jupytext": {
   "text_representation": {
    "extension": ".md",
    "format_name": "myst",
    "format_version": 0.13,
    "jupytext_version": "1.16.1"
   }
  },
  "kernelspec": {
   "display_name": "OcbDocs",
   "name": "ocb-docs"
  },
  "source_map": [
   11,
   24,
   32,
   38,
   51,
   55,
   57,
   63,
   68,
   72,
   76,
   80,
   82,
   87,
   92,
   105,
   109,
   115,
   120,
   124
  ]
 },
 "nbformat": 4,
 "nbformat_minor": 5
}