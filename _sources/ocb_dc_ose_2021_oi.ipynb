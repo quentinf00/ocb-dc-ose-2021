{
 "cells": [
  {
   "cell_type": "markdown",
   "id": "1358d031",
   "metadata": {},
   "source": [
    "# Participating to the data challenge: applying, evaluating and submitting a method \n",
    "\n",
    "## Fetching the input data\n",
    "\n",
    "More detail in [](./ocb_dc_ose_2021_data.md)"
   ]
  },
  {
   "cell_type": "code",
   "execution_count": 1,
   "id": "7d9ef61a",
   "metadata": {
    "tags": [
     "scroll-output"
    ]
   },
   "outputs": [
    {
     "name": "stdout",
     "output_type": "stream",
     "text": [
      "\r",
      "!\r",
      "Cloning ocb-dc-ose-2021.git|                        |0.00/? [00:00,      ?obj/s]"
     ]
    },
    {
     "name": "stdout",
     "output_type": "stream",
     "text": [
      "\r",
      "Cloning ocb-dc-ose-2021.git|           | Counting |1.00/483 [00:00,   2.07obj/s]\r",
      "Cloning ocb-dc-ose-2021.git|           | Counting |1.00/483 [00:00,   2.07obj/s]\r",
      "Cloning ocb-dc-ose-2021.git|████████████| Counting |483/483 [00:00,   2.07obj/s]\r",
      "Cloning ocb-dc-ose-2021.git|████████████| Counting |483/483 [00:00,   2.07obj/s]\r",
      "Cloning ocb-dc-ose-2021.git| | Compressing | Compressing objects:   1% (3/248) |"
     ]
    },
    {
     "name": "stdout",
     "output_type": "stream",
     "text": [
      "\r",
      "Cloning ocb-dc-ose-2021.git|█████████| Compressing |248/248 [00:00,   2.07obj/s]\r",
      "Cloning ocb-dc-ose-2021.git|█████████| Compressing |248/248 [00:00,   2.07obj/s]"
     ]
    },
    {
     "name": "stdout",
     "output_type": "stream",
     "text": [
      "\r",
      "                                                                                \r"
     ]
    },
    {
     "name": "stdout",
     "output_type": "stream",
     "text": [
      "\r",
      "!\r",
      "  0% Downloading input|                              |0/7 [00:00<?,    ?files/s]\r\n",
      "\r",
      "!\u001b[A\r\n",
      "\r",
      "datachallenge/data/prepared/input/.gitignore          |0.00 [00:00,        ?B/s]\u001b[A\r\n",
      "\r",
      "                                                                                \u001b[A"
     ]
    },
    {
     "name": "stdout",
     "output_type": "stream",
     "text": [
      "\r\n",
      "\r",
      "!\u001b[A\r\n",
      "\r",
      "  0%|          |datachallenge/data/prepared/inpu0.00/454k [00:00<?,        ?B/s]\u001b[A"
     ]
    },
    {
     "name": "stdout",
     "output_type": "stream",
     "text": [
      "\r\n",
      "\r\n",
      "\r",
      "!\u001b[A\u001b[A\r\n",
      "\r\n",
      "\r",
      "  0%|          |datachallenge/data/prepared/inpu0.00/703k [00:00<?,        ?B/s]\u001b[A\u001b[A\r\n",
      "\r\n",
      "\r\n",
      "\r",
      "!\u001b[A\u001b[A\u001b[A\r\n",
      "\r\n",
      "\r\n",
      "\r",
      "  0%|          |datachallenge/data/prepared/inp0.00/2.48M [00:00<?,        ?B/s]\u001b[A\u001b[A\u001b[A\r\n",
      "\r\n",
      "\r\n",
      "\r\n",
      "\r",
      "!\u001b[A\u001b[A\u001b[A\u001b[A\r\n",
      "\r\n",
      "\r\n",
      "\r\n",
      "\r",
      "  0%|          |datachallenge/data/prepared/inp0.00/2.65M [00:00<?,        ?B/s]\u001b[A\u001b[A\u001b[A\u001b[A\r\n",
      "\r",
      "                                                                                \u001b[A\r",
      " 29% Downloading input|███████▏                 |2/7 [00:00<00:00,  8.58files/s]\r\n",
      "\r",
      "!\u001b[A\r\n",
      "\r",
      "  0%|          |datachallenge/data/prepared/inp0.00/2.39M [00:00<?,        ?B/s]\u001b[A"
     ]
    },
    {
     "name": "stdout",
     "output_type": "stream",
     "text": [
      "\r\n",
      "\r\n",
      "\r",
      "                                                                                \u001b[A\u001b[A\r\n",
      "\r\n",
      "\r",
      "!\u001b[A\u001b[A\r\n",
      "\r\n",
      "\r",
      "  0%|          |datachallenge/data/prepared/inp0.00/2.22M [00:00<?,        ?B/s]\u001b[A\u001b[A"
     ]
    },
    {
     "name": "stdout",
     "output_type": "stream",
     "text": [
      "\r\n",
      "\r\n",
      "\r\n",
      "\r",
      "                                                                                \u001b[A\u001b[A\u001b[A\r\n",
      "\r\n",
      "\r\n",
      "\r\n",
      "\r",
      "                                                                                \u001b[A\u001b[A\u001b[A\u001b[A\r\n",
      "\r",
      "                                                                                \u001b[A"
     ]
    },
    {
     "name": "stdout",
     "output_type": "stream",
     "text": [
      "\r\n",
      "\r\n",
      "\r",
      "                                                                                \u001b[A\u001b[A\r",
      "100% Downloading input|█████████████████████████|7/7 [00:00<00:00, 20.01files/s]\r",
      "                                                                                \r"
     ]
    },
    {
     "name": "stdout",
     "output_type": "stream",
     "text": [
      "\u001b[0m"
     ]
    }
   ],
   "source": [
    "!dvc get https://github.com/quentinf00/ocb-dc-ose-2021.git datachallenge/data/prepared/input"
   ]
  },
  {
   "cell_type": "code",
   "execution_count": 2,
   "id": "a791384c",
   "metadata": {
    "tags": [
     "hide-input"
    ]
   },
   "outputs": [
    {
     "data": {
      "text/plain": [
       "<matplotlib.collections.QuadMesh at 0x7fb4e5d24f50>"
      ]
     },
     "execution_count": 2,
     "metadata": {},
     "output_type": "execute_result"
    },
    {
     "data": {
      "image/png": "[encoded data removed]",
      "text/plain": [
       "<Figure size 640x480 with 2 Axes>"
      ]
     },
     "metadata": {},
     "output_type": "display_data"
    }
   ],
   "source": [
    "import xarray as xr\n",
    "obs = xr.open_mfdataset('input/*.nc', combine='nested',concat_dim='time')\n",
    "bin_size = 1/20\n",
    "(\n",
    "    obs.sel(time='2017-01-01').assign(\n",
    "        lat=obs.lat / bin_size // 1 * bin_size,\n",
    "        lon=obs.lon / bin_size // 1 * bin_size\n",
    "    )[['ssh', 'lat', 'lon']].load()\n",
    "    .drop_vars('time')\n",
    "    .to_dataframe()\n",
    "    .groupby(['lat', 'lon']).mean()\n",
    "    .to_xarray()\n",
    ").ssh.plot()"
   ]
  },
  {
   "cell_type": "markdown",
   "id": "244e7d17",
   "metadata": {},
   "source": [
    "### Applying my method: Basic optimal interpolation\n",
    "\n",
    "\n",
    "![oi shema](imgs/oi_doc.png)"
   ]
  },
  {
   "cell_type": "code",
   "execution_count": 3,
   "id": "338e5f3f",
   "metadata": {
    "tags": [
     "hide-cell"
    ]
   },
   "outputs": [
    {
     "name": "stdout",
     "output_type": "stream",
     "text": [
      "--2024-04-10 09:45:57--  https://gist.githubusercontent.com/quentinf00/2d034392ee9b385fb4de3c8628bfc844/raw/4afecfce184a6e668def7ec3a99cb6cd4d612bdc/patcher_oi_torch.py\r\n",
      "Resolving gist.githubusercontent.com (gist.githubusercontent.com)... 185.199.108.133, 185.199.110.133, 185.199.109.133, ...\r\n",
      "Connecting to gist.githubusercontent.com (gist.githubusercontent.com)|185.199.108.133|:443... connected.\r\n"
     ]
    },
    {
     "name": "stdout",
     "output_type": "stream",
     "text": [
      "HTTP request sent, awaiting response... "
     ]
    },
    {
     "name": "stdout",
     "output_type": "stream",
     "text": [
      "200 OK\r\n",
      "Length: 4247 (4,1K) [text/plain]\r\n",
      "Saving to: ‘patcher_oi_torch.py’\r\n",
      "\r\n",
      "\r",
      "patcher_oi_torch.py   0%[                    ]       0  --.-KB/s               \r",
      "patcher_oi_torch.py 100%[===================>]   4,15K  --.-KB/s    in 0s      \r\n",
      "\r\n",
      "2024-04-10 09:45:57 (59,0 MB/s) - ‘patcher_oi_torch.py’ saved [4247/4247]\r\n",
      "\r\n"
     ]
    }
   ],
   "source": [
    "# GIST: https://gist.github.com/quentinf00/2d034392ee9b385fb4de3c8628bfc8cache44\n",
    "!wget https://gist.githubusercontent.com/quentinf00/2d034392ee9b385fb4de3c8628bfc844/raw/4afecfce184a6e668def7ec3a99cb6cd4d612bdc/patcher_oi_torch.py"
   ]
  },
  {
   "cell_type": "markdown",
   "id": "467bd1c0",
   "metadata": {},
   "source": [
    "<script src=\"https://gist.github.com/quentinf00/2d034392ee9b385fb4de3c8628bfc844.js\"></script>"
   ]
  },
  {
   "cell_type": "code",
   "execution_count": 4,
   "id": "29120b77",
   "metadata": {
    "tags": [
     "scroll-output"
    ]
   },
   "outputs": [
    {
     "name": "stderr",
     "output_type": "stream",
     "text": [
      "\r",
      "  0%|                                                                                                                                                                                         | 0/73 [00:00<?, ?it/s]"
     ]
    },
    {
     "name": "stderr",
     "output_type": "stream",
     "text": [
      "\r",
      "  1%|██▍                                                                                                                                                                              | 1/73 [00:03<03:59,  3.33s/it]"
     ]
    },
    {
     "name": "stderr",
     "output_type": "stream",
     "text": [
      "\r",
      "  3%|████▊                                                                                                                                                                            | 2/73 [00:03<01:51,  1.56s/it]"
     ]
    },
    {
     "name": "stderr",
     "output_type": "stream",
     "text": [
      "\r",
      "  4%|███████▎                                                                                                                                                                         | 3/73 [00:03<01:09,  1.01it/s]"
     ]
    },
    {
     "name": "stderr",
     "output_type": "stream",
     "text": [
      "\r",
      "  5%|█████████▋                                                                                                                                                                       | 4/73 [00:04<00:49,  1.39it/s]"
     ]
    },
    {
     "name": "stderr",
     "output_type": "stream",
     "text": [
      "\r",
      "  7%|████████████                                                                                                                                                                     | 5/73 [00:04<00:38,  1.75it/s]"
     ]
    },
    {
     "name": "stderr",
     "output_type": "stream",
     "text": [
      "\r",
      "  8%|██████████████▌                                                                                                                                                                  | 6/73 [00:04<00:32,  2.07it/s]"
     ]
    },
    {
     "name": "stderr",
     "output_type": "stream",
     "text": [
      "\r",
      " 10%|████████████████▉                                                                                                                                                                | 7/73 [00:05<00:27,  2.36it/s]"
     ]
    },
    {
     "name": "stderr",
     "output_type": "stream",
     "text": [
      "\r",
      " 11%|███████████████████▍                                                                                                                                                             | 8/73 [00:05<00:25,  2.59it/s]"
     ]
    },
    {
     "name": "stderr",
     "output_type": "stream",
     "text": [
      "\r",
      " 12%|█████████████████████▊                                                                                                                                                           | 9/73 [00:05<00:23,  2.76it/s]"
     ]
    },
    {
     "name": "stderr",
     "output_type": "stream",
     "text": [
      "\r",
      " 14%|████████████████████████                                                                                                                                                        | 10/73 [00:06<00:21,  2.89it/s]"
     ]
    },
    {
     "name": "stderr",
     "output_type": "stream",
     "text": [
      "\r",
      " 15%|██████████████████████████▌                                                                                                                                                     | 11/73 [00:06<00:20,  2.99it/s]"
     ]
    },
    {
     "name": "stderr",
     "output_type": "stream",
     "text": [
      "\r",
      " 16%|████████████████████████████▉                                                                                                                                                   | 12/73 [00:06<00:19,  3.07it/s]"
     ]
    },
    {
     "name": "stderr",
     "output_type": "stream",
     "text": [
      "\r",
      " 18%|███████████████████████████████▎                                                                                                                                                | 13/73 [00:07<00:19,  3.12it/s]"
     ]
    },
    {
     "name": "stderr",
     "output_type": "stream",
     "text": [
      "\r",
      " 19%|█████████████████████████████████▊                                                                                                                                              | 14/73 [00:07<00:17,  3.29it/s]"
     ]
    },
    {
     "name": "stderr",
     "output_type": "stream",
     "text": [
      "\r",
      " 21%|████████████████████████████████████▏                                                                                                                                           | 15/73 [00:07<00:16,  3.47it/s]"
     ]
    },
    {
     "name": "stderr",
     "output_type": "stream",
     "text": [
      "\r",
      " 22%|██████████████████████████████████████▌                                                                                                                                         | 16/73 [00:07<00:15,  3.70it/s]"
     ]
    },
    {
     "name": "stderr",
     "output_type": "stream",
     "text": [
      "\r",
      " 23%|████████████████████████████████████████▉                                                                                                                                       | 17/73 [00:07<00:13,  4.01it/s]"
     ]
    },
    {
     "name": "stderr",
     "output_type": "stream",
     "text": [
      "\r",
      " 25%|███████████████████████████████████████████▍                                                                                                                                    | 18/73 [00:08<00:12,  4.30it/s]"
     ]
    },
    {
     "name": "stderr",
     "output_type": "stream",
     "text": [
      "\r",
      " 26%|█████████████████████████████████████████████▊                                                                                                                                  | 19/73 [00:08<00:11,  4.56it/s]"
     ]
    },
    {
     "name": "stderr",
     "output_type": "stream",
     "text": [
      "\r",
      " 27%|████████████████████████████████████████████████▏                                                                                                                               | 20/73 [00:08<00:11,  4.75it/s]"
     ]
    },
    {
     "name": "stderr",
     "output_type": "stream",
     "text": [
      "\r",
      " 29%|██████████████████████████████████████████████████▋                                                                                                                             | 21/73 [00:08<00:10,  4.89it/s]"
     ]
    },
    {
     "name": "stderr",
     "output_type": "stream",
     "text": [
      "\r",
      " 30%|█████████████████████████████████████████████████████                                                                                                                           | 22/73 [00:08<00:10,  4.93it/s]"
     ]
    },
    {
     "name": "stderr",
     "output_type": "stream",
     "text": [
      "\r",
      " 32%|███████████████████████████████████████████████████████▍                                                                                                                        | 23/73 [00:09<00:10,  4.93it/s]"
     ]
    },
    {
     "name": "stderr",
     "output_type": "stream",
     "text": [
      "\r",
      " 33%|█████████████████████████████████████████████████████████▊                                                                                                                      | 24/73 [00:09<00:09,  4.91it/s]"
     ]
    },
    {
     "name": "stderr",
     "output_type": "stream",
     "text": [
      "\r",
      " 34%|████████████████████████████████████████████████████████████▎                                                                                                                   | 25/73 [00:09<00:09,  4.91it/s]"
     ]
    },
    {
     "name": "stderr",
     "output_type": "stream",
     "text": [
      "\r",
      " 36%|██████████████████████████████████████████████████████████████▋                                                                                                                 | 26/73 [00:09<00:09,  4.90it/s]"
     ]
    },
    {
     "name": "stderr",
     "output_type": "stream",
     "text": [
      "\r",
      " 37%|█████████████████████████████████████████████████████████████████                                                                                                               | 27/73 [00:09<00:09,  4.85it/s]"
     ]
    },
    {
     "name": "stderr",
     "output_type": "stream",
     "text": [
      "\r",
      " 38%|███████████████████████████████████████████████████████████████████▌                                                                                                            | 28/73 [00:10<00:09,  4.80it/s]"
     ]
    },
    {
     "name": "stderr",
     "output_type": "stream",
     "text": [
      "\r",
      " 40%|█████████████████████████████████████████████████████████████████████▉                                                                                                          | 29/73 [00:10<00:09,  4.78it/s]"
     ]
    },
    {
     "name": "stderr",
     "output_type": "stream",
     "text": [
      "\r",
      " 41%|████████████████████████████████████████████████████████████████████████▎                                                                                                       | 30/73 [00:10<00:09,  4.76it/s]"
     ]
    },
    {
     "name": "stderr",
     "output_type": "stream",
     "text": [
      "\r",
      " 42%|██████████████████████████████████████████████████████████████████████████▋                                                                                                     | 31/73 [00:10<00:08,  4.79it/s]"
     ]
    },
    {
     "name": "stderr",
     "output_type": "stream",
     "text": [
      "\r",
      " 44%|█████████████████████████████████████████████████████████████████████████████▏                                                                                                  | 32/73 [00:11<00:08,  4.75it/s]"
     ]
    },
    {
     "name": "stderr",
     "output_type": "stream",
     "text": [
      "\r",
      " 45%|███████████████████████████████████████████████████████████████████████████████▌                                                                                                | 33/73 [00:11<00:08,  4.74it/s]"
     ]
    },
    {
     "name": "stderr",
     "output_type": "stream",
     "text": [
      "\r",
      " 47%|█████████████████████████████████████████████████████████████████████████████████▉                                                                                              | 34/73 [00:11<00:08,  4.76it/s]"
     ]
    },
    {
     "name": "stderr",
     "output_type": "stream",
     "text": [
      "\r",
      " 48%|████████████████████████████████████████████████████████████████████████████████████▍                                                                                           | 35/73 [00:11<00:07,  4.79it/s]"
     ]
    },
    {
     "name": "stderr",
     "output_type": "stream",
     "text": [
      "\r",
      " 49%|██████████████████████████████████████████████████████████████████████████████████████▊                                                                                         | 36/73 [00:11<00:07,  4.71it/s]"
     ]
    },
    {
     "name": "stderr",
     "output_type": "stream",
     "text": [
      "\r",
      " 51%|█████████████████████████████████████████████████████████████████████████████████████████▏                                                                                      | 37/73 [00:12<00:07,  4.53it/s]"
     ]
    },
    {
     "name": "stderr",
     "output_type": "stream",
     "text": [
      "\r",
      " 52%|███████████████████████████████████████████████████████████████████████████████████████████▌                                                                                    | 38/73 [00:12<00:08,  4.35it/s]"
     ]
    },
    {
     "name": "stderr",
     "output_type": "stream",
     "text": [
      "\r",
      " 53%|██████████████████████████████████████████████████████████████████████████████████████████████                                                                                  | 39/73 [00:12<00:08,  4.12it/s]"
     ]
    },
    {
     "name": "stderr",
     "output_type": "stream",
     "text": [
      "\r",
      " 55%|████████████████████████████████████████████████████████████████████████████████████████████████▍                                                                               | 40/73 [00:12<00:08,  3.81it/s]"
     ]
    },
    {
     "name": "stderr",
     "output_type": "stream",
     "text": [
      "\r",
      " 56%|██████████████████████████████████████████████████████████████████████████████████████████████████▊                                                                             | 41/73 [00:13<00:08,  3.57it/s]"
     ]
    },
    {
     "name": "stderr",
     "output_type": "stream",
     "text": [
      "\r",
      " 58%|█████████████████████████████████████████████████████████████████████████████████████████████████████▎                                                                          | 42/73 [00:13<00:09,  3.37it/s]"
     ]
    },
    {
     "name": "stderr",
     "output_type": "stream",
     "text": [
      "\r",
      " 59%|███████████████████████████████████████████████████████████████████████████████████████████████████████▋                                                                        | 43/73 [00:13<00:09,  3.32it/s]"
     ]
    },
    {
     "name": "stderr",
     "output_type": "stream",
     "text": [
      "\r",
      " 60%|██████████████████████████████████████████████████████████████████████████████████████████████████████████                                                                      | 44/73 [00:14<00:08,  3.27it/s]"
     ]
    },
    {
     "name": "stderr",
     "output_type": "stream",
     "text": [
      "\r",
      " 62%|████████████████████████████████████████████████████████████████████████████████████████████████████████████▍                                                                   | 45/73 [00:14<00:08,  3.23it/s]"
     ]
    },
    {
     "name": "stderr",
     "output_type": "stream",
     "text": [
      "\r",
      " 63%|██████████████████████████████████████████████████████████████████████████████████████████████████████████████▉                                                                 | 46/73 [00:14<00:08,  3.21it/s]"
     ]
    },
    {
     "name": "stderr",
     "output_type": "stream",
     "text": [
      "\r",
      " 64%|█████████████████████████████████████████████████████████████████████████████████████████████████████████████████▎                                                              | 47/73 [00:15<00:08,  3.19it/s]"
     ]
    },
    {
     "name": "stderr",
     "output_type": "stream",
     "text": [
      "\r",
      " 66%|███████████████████████████████████████████████████████████████████████████████████████████████████████████████████▋                                                            | 48/73 [00:15<00:07,  3.19it/s]"
     ]
    },
    {
     "name": "stderr",
     "output_type": "stream",
     "text": [
      "\r",
      " 67%|██████████████████████████████████████████████████████████████████████████████████████████████████████████████████████▏                                                         | 49/73 [00:15<00:07,  3.20it/s]"
     ]
    },
    {
     "name": "stderr",
     "output_type": "stream",
     "text": [
      "\r",
      " 68%|████████████████████████████████████████████████████████████████████████████████████████████████████████████████████████▌                                                       | 50/73 [00:16<00:07,  3.23it/s]"
     ]
    },
    {
     "name": "stderr",
     "output_type": "stream",
     "text": [
      "\r",
      " 70%|██████████████████████████████████████████████████████████████████████████████████████████████████████████████████████████▉                                                     | 51/73 [00:16<00:06,  3.34it/s]"
     ]
    },
    {
     "name": "stderr",
     "output_type": "stream",
     "text": [
      "\r",
      " 71%|█████████████████████████████████████████████████████████████████████████████████████████████████████████████████████████████▎                                                  | 52/73 [00:16<00:06,  3.48it/s]"
     ]
    },
    {
     "name": "stderr",
     "output_type": "stream",
     "text": [
      "\r",
      " 73%|███████████████████████████████████████████████████████████████████████████████████████████████████████████████████████████████▊                                                | 53/73 [00:16<00:05,  3.63it/s]"
     ]
    },
    {
     "name": "stderr",
     "output_type": "stream",
     "text": [
      "\r",
      " 74%|██████████████████████████████████████████████████████████████████████████████████████████████████████████████████████████████████▏                                             | 54/73 [00:17<00:04,  3.85it/s]"
     ]
    },
    {
     "name": "stderr",
     "output_type": "stream",
     "text": [
      "\r",
      " 75%|████████████████████████████████████████████████████████████████████████████████████████████████████████████████████████████████████▌                                           | 55/73 [00:17<00:04,  4.07it/s]"
     ]
    },
    {
     "name": "stderr",
     "output_type": "stream",
     "text": [
      "\r",
      " 77%|███████████████████████████████████████████████████████████████████████████████████████████████████████████████████████████████████████                                         | 56/73 [00:17<00:03,  4.25it/s]"
     ]
    },
    {
     "name": "stderr",
     "output_type": "stream",
     "text": [
      "\r",
      " 78%|█████████████████████████████████████████████████████████████████████████████████████████████████████████████████████████████████████████▍                                      | 57/73 [00:17<00:03,  4.35it/s]"
     ]
    },
    {
     "name": "stderr",
     "output_type": "stream",
     "text": [
      "\r",
      " 79%|███████████████████████████████████████████████████████████████████████████████████████████████████████████████████████████████████████████▊                                    | 58/73 [00:17<00:03,  4.49it/s]"
     ]
    },
    {
     "name": "stderr",
     "output_type": "stream",
     "text": [
      "\r",
      " 81%|██████████████████████████████████████████████████████████████████████████████████████████████████████████████████████████████████████████████▏                                 | 59/73 [00:18<00:03,  4.52it/s]"
     ]
    },
    {
     "name": "stderr",
     "output_type": "stream",
     "text": [
      "\r",
      " 82%|████████████████████████████████████████████████████████████████████████████████████████████████████████████████████████████████████████████████▋                               | 60/73 [00:18<00:02,  4.59it/s]"
     ]
    },
    {
     "name": "stderr",
     "output_type": "stream",
     "text": [
      "\r",
      " 84%|███████████████████████████████████████████████████████████████████████████████████████████████████████████████████████████████████████████████████                             | 61/73 [00:18<00:02,  4.63it/s]"
     ]
    },
    {
     "name": "stderr",
     "output_type": "stream",
     "text": [
      "\r",
      " 85%|█████████████████████████████████████████████████████████████████████████████████████████████████████████████████████████████████████████████████████▍                          | 62/73 [00:18<00:02,  4.64it/s]"
     ]
    },
    {
     "name": "stderr",
     "output_type": "stream",
     "text": [
      "\r",
      " 86%|███████████████████████████████████████████████████████████████████████████████████████████████████████████████████████████████████████████████████████▉                        | 63/73 [00:19<00:02,  4.67it/s]"
     ]
    },
    {
     "name": "stderr",
     "output_type": "stream",
     "text": [
      "\r",
      " 88%|██████████████████████████████████████████████████████████████████████████████████████████████████████████████████████████████████████████████████████████▎                     | 64/73 [00:19<00:01,  4.78it/s]"
     ]
    },
    {
     "name": "stderr",
     "output_type": "stream",
     "text": [
      "\r",
      " 89%|████████████████████████████████████████████████████████████████████████████████████████████████████████████████████████████████████████████████████████████▋                   | 65/73 [00:19<00:01,  4.81it/s]"
     ]
    },
    {
     "name": "stderr",
     "output_type": "stream",
     "text": [
      "\r",
      " 90%|███████████████████████████████████████████████████████████████████████████████████████████████████████████████████████████████████████████████████████████████                 | 66/73 [00:19<00:01,  4.84it/s]"
     ]
    },
    {
     "name": "stderr",
     "output_type": "stream",
     "text": [
      "\r",
      " 92%|█████████████████████████████████████████████████████████████████████████████████████████████████████████████████████████████████████████████████████████████████▌              | 67/73 [00:19<00:01,  4.88it/s]"
     ]
    },
    {
     "name": "stderr",
     "output_type": "stream",
     "text": [
      "\r",
      " 93%|███████████████████████████████████████████████████████████████████████████████████████████████████████████████████████████████████████████████████████████████████▉            | 68/73 [00:20<00:01,  4.92it/s]"
     ]
    },
    {
     "name": "stderr",
     "output_type": "stream",
     "text": [
      "\r",
      " 95%|██████████████████████████████████████████████████████████████████████████████████████████████████████████████████████████████████████████████████████████████████████▎         | 69/73 [00:20<00:00,  4.85it/s]"
     ]
    },
    {
     "name": "stderr",
     "output_type": "stream",
     "text": [
      "\r",
      " 96%|████████████████████████████████████████████████████████████████████████████████████████████████████████████████████████████████████████████████████████████████████████▊       | 70/73 [00:20<00:00,  4.84it/s]"
     ]
    },
    {
     "name": "stderr",
     "output_type": "stream",
     "text": [
      "\r",
      " 97%|███████████████████████████████████████████████████████████████████████████████████████████████████████████████████████████████████████████████████████████████████████████▏    | 71/73 [00:20<00:00,  4.79it/s]"
     ]
    },
    {
     "name": "stderr",
     "output_type": "stream",
     "text": [
      "\r",
      " 99%|█████████████████████████████████████████████████████████████████████████████████████████████████████████████████████████████████████████████████████████████████████████████▌  | 72/73 [00:20<00:00,  4.84it/s]"
     ]
    },
    {
     "name": "stderr",
     "output_type": "stream",
     "text": [
      "\r",
      "100%|████████████████████████████████████████████████████████████████████████████████████████████████████████████████████████████████████████████████████████████████████████████████| 73/73 [00:21<00:00,  4.87it/s]"
     ]
    },
    {
     "name": "stderr",
     "output_type": "stream",
     "text": [
      "\r",
      "100%|████████████████████████████████████████████████████████████████████████████████████████████████████████████████████████████████████████████████████████████████████████████████| 73/73 [00:21<00:00,  3.46it/s]"
     ]
    },
    {
     "name": "stderr",
     "output_type": "stream",
     "text": [
      "\n"
     ]
    }
   ],
   "source": [
    "import numpy as np\n",
    "import xarray as xr\n",
    "import pandas as pd\n",
    "from functools import partial\n",
    "from xrpatcher import XRDAPatcher\n",
    "from patcher_oi_torch import oi\n",
    "\n",
    "\n",
    "outgrid = oi(\n",
    "        outgrid_da=xr.DataArray(\n",
    "            dims=('time', 'lat', 'lon'),\n",
    "            coords=dict(\n",
    "                time=pd.date_range(\"2017-01-01\", \"2017-12-31\"),\n",
    "                lat=np.arange(33, 43, 0.25),\n",
    "                lon=np.arange(-65, -55, 0.25),\n",
    "            ),\n",
    "        ),\n",
    "        patcher_cls=partial(XRDAPatcher,\n",
    "            patches=dict(time=5, lat=40, lon=40),\n",
    "            strides=dict(time=5, lat=40, lon=40)\n",
    "        ),\n",
    "        obs=obs.load(),\n",
    "        lt=pd.to_timedelta('7D'), lx=1., ly=1.,\n",
    "        noise=0.05,\n",
    "        obs_dt=pd.to_timedelta('1D'), obs_dx=0.25, obs_dy=0.25,\n",
    "        device='cuda'\n",
    "    )"
   ]
  },
  {
   "cell_type": "markdown",
   "id": "c30b6a25",
   "metadata": {},
   "source": [
    "### Visualize results"
   ]
  },
  {
   "cell_type": "code",
   "execution_count": 5,
   "id": "1a0f71d8",
   "metadata": {
    "tags": [
     "hide-input"
    ]
   },
   "outputs": [
    {
     "data": {
      "text/plain": [
       "<xarray.plot.facetgrid.FacetGrid at 0x7fb3e9191350>"
      ]
     },
     "execution_count": 5,
     "metadata": {},
     "output_type": "execute_result"
    },
    {
     "data": {
      "image/png": "[encoded data removed]",
      "text/plain": [
       "<Figure size 700x1000 with 13 Axes>"
      ]
     },
     "metadata": {},
     "output_type": "display_data"
    }
   ],
   "source": [
    "import ocn_tools._src.geoprocessing.geostrophic as geo\n",
    "(\n",
    "    outgrid.to_dataset(name='ssh')\n",
    "    .pipe(geo.geostrophic_velocities)\n",
    "    .pipe(geo.kinetic_energy)\n",
    "    .isel(time=slice(15, None, 30)\n",
    ").ke.plot(col='time', col_wrap=3, figsize=(7,10))\n",
    ")"
   ]
  },
  {
   "cell_type": "markdown",
   "id": "d313b283",
   "metadata": {},
   "source": [
    "## Evaluate\n",
    "\n",
    "### Fetch reference data"
   ]
  },
  {
   "cell_type": "code",
   "execution_count": 6,
   "id": "784ecab2",
   "metadata": {
    "tags": [
     "scroll-output"
    ]
   },
   "outputs": [],
   "source": [
    "%%bash\n",
    "dvc get  https://github.com/quentinf00/ocb-dc-ose-2021.git \\\n",
    "  datachallenge/data/prepared/ref \\\n",
    "  -o data/prepared/ref"
   ]
  },
  {
   "cell_type": "markdown",
   "id": "0be664c4",
   "metadata": {},
   "source": [
    "### Use the configured `ocb-dc_ose_2021-metrics`"
   ]
  },
  {
   "cell_type": "code",
   "execution_count": 7,
   "id": "8a12c67b",
   "metadata": {},
   "outputs": [],
   "source": [
    "outgrid.to_dataset(name='ssh').to_netcdf('output.nc')"
   ]
  },
  {
   "cell_type": "code",
   "execution_count": 8,
   "id": "d9710fd1",
   "metadata": {
    "tags": [
     "scroll-output"
    ]
   },
   "outputs": [
    {
     "name": "stdout",
     "output_type": "stream",
     "text": [
      "[2024-04-10 09:46:26,197][aprl.appareil][INFO] - Starting\n"
     ]
    },
    {
     "name": "stdout",
     "output_type": "stream",
     "text": [
      "[2024-04-10 09:46:26,197][aprl.appareil][INFO] - Running part _03_interp_on_track\n"
     ]
    },
    {
     "name": "stdout",
     "output_type": "stream",
     "text": [
      "[2024-04-10 09:46:26,198][ocb_dc_ose_2021.mods.interp_on_track][INFO] - Starting\n"
     ]
    },
    {
     "name": "stdout",
     "output_type": "stream",
     "text": [
      "[2024-04-10 09:46:27,134][ocb_dc_ose_2021.mods.interp_on_track][INFO] - Done\n"
     ]
    },
    {
     "name": "stdout",
     "output_type": "stream",
     "text": [
      "[2024-04-10 09:46:27,135][aprl.appareil][INFO] - part _03_interp_on_track done\n"
     ]
    },
    {
     "name": "stdout",
     "output_type": "stream",
     "text": [
      "[2024-04-10 09:46:27,135][aprl.appareil][INFO] - Running part _04_1_lambdax\n"
     ]
    },
    {
     "name": "stdout",
     "output_type": "stream",
     "text": [
      "[2024-04-10 09:46:27,135][ocb_dc_ose_2021.mods.lambdax][INFO] - Starting\n"
     ]
    },
    {
     "name": "stdout",
     "output_type": "stream",
     "text": [
      "[2024-04-10 09:46:27,212][ocb_dc_ose_2021.mods.lambdax][INFO] - Effective scale resolved (interpolated at score 0.5) 143.37\n"
     ]
    },
    {
     "name": "stdout",
     "output_type": "stream",
     "text": [
      "[2024-04-10 09:46:27,222][ocb_dc_ose_2021.mods.lambdax][INFO] - Done\n"
     ]
    },
    {
     "name": "stdout",
     "output_type": "stream",
     "text": [
      "[2024-04-10 09:46:27,223][aprl.appareil][INFO] - part _04_1_lambdax done\n"
     ]
    },
    {
     "name": "stdout",
     "output_type": "stream",
     "text": [
      "[2024-04-10 09:46:27,223][aprl.appareil][INFO] - Running part _04_2_mu\n"
     ]
    },
    {
     "name": "stdout",
     "output_type": "stream",
     "text": [
      "[2024-04-10 09:46:27,223][ocb_dc_ose_2021.mods.mu][INFO] - Starting\n"
     ]
    },
    {
     "name": "stdout",
     "output_type": "stream",
     "text": [
      "[2024-04-10 09:46:27,260][ocb_dc_ose_2021.mods.mu][INFO] - Mu score: 0.8818722045815395\n"
     ]
    },
    {
     "name": "stdout",
     "output_type": "stream",
     "text": [
      "[2024-04-10 09:46:27,261][ocb_dc_ose_2021.mods.mu][INFO] - Done\n"
     ]
    },
    {
     "name": "stdout",
     "output_type": "stream",
     "text": [
      "[2024-04-10 09:46:27,261][aprl.appareil][INFO] - part _04_2_mu done\n"
     ]
    },
    {
     "name": "stdout",
     "output_type": "stream",
     "text": [
      "[2024-04-10 09:46:27,261][aprl.appareil][INFO] - Done\n"
     ]
    }
   ],
   "source": [
    "%%bash\n",
    "ocb-dc_ose_2021-metrics params.study_path=output.nc \\\n",
    "    'to_run=[_03_interp_on_track,_04_1_lambdax,_04_2_mu]'"
   ]
  },
  {
   "cell_type": "code",
   "execution_count": 9,
   "id": "32c95918",
   "metadata": {},
   "outputs": [
    {
     "name": "stdout",
     "output_type": "stream",
     "text": [
      "|             |          0 |\n",
      "|:------------|-----------:|\n",
      "| $\\mu$       |   0.881872 |\n",
      "| $\\lambda_x$ | 143.366    |\n"
     ]
    }
   ],
   "source": [
    "import pandas as pd\n",
    "import glob\n",
    "print(pd.concat([pd.read_json(p, typ='series') for p in glob.glob('data/metrics/*.json')]).to_markdown())"
   ]
  },
  {
   "cell_type": "markdown",
   "id": "cf93fe9c",
   "metadata": {},
   "source": [
    "## Submit method to datachallenge\n",
    "\n",
    "### Make your reconstruction public through a http link\n",
    "```bash\n",
    "aws s3 cp output.nc s3://melody/quentin_cloud/ocb_oi_demo.nc --acl public-read\n",
    "```\n",
    "\n",
    "### Push a branch `leaderboard/<>` adding your method\n",
    "```bash\n",
    "git clone https://$GTOKEN@github.com/quentinf00/ocb-dc-ose-2021.git\n",
    "cd ocb-dc-ose-2021\n",
    "git checkout -b leaderboard/submit-oi-demo\n",
    "\n",
    "echo '' >> datachallenge/methods.toml\n",
    "echo '[methods.oi_demo]' >> datachallenge/methods.toml\n",
    "echo 'url = \"https://s3.eu-west-2.wasabisys.com/melody/quentin_cloud/ocb_oi_demo.nc\"' >> datachallenge/methods.toml\n",
    "echo 'var = \"ssh\"' >> datachallenge/methods.toml\n",
    "\n",
    "git add .\n",
    "git commit -m \"Demo OI Submission\"\n",
    "git push origin leaderboard/submit-oi-demo -f\n",
    "\n",
    "!cat \"Pull request here: https://github.com/quentinf00/ocb-dc-ose-2021/compare/leaderboard/submit-oi-demo?expand=1\"\n",
    "```\n",
    "\n",
    "<iframe src=https://github.com/quentinf00/ocb-dc-ose-2021/pull/4/commits/af4c6084cb93089742fe0b563877f8996e2afc08#diff-62cd5b9a69ab1e4203f56d494c890b0b301b8c5eee9bd59e3a87ea36e2a3b3ec></iframe>\n",
    "\n",
    "### Leaderboard is automatically updated"
   ]
  }
 ],
 "metadata": {
  "jupytext": {
   "text_representation": {
    "extension": ".md",
    "format_name": "myst",
    "format_version": 0.13,
    "jupytext_version": "1.16.1"
   }
  },
  "kernelspec": {
   "display_name": "OcbDocs",
   "name": "ocb-docs"
  },
  "language_info": {
   "codemirror_mode": {
    "name": "ipython",
    "version": 3
   },
   "file_extension": ".py",
   "mimetype": "text/x-python",
   "name": "python",
   "nbconvert_exporter": "python",
   "pygments_lexer": "ipython3",
   "version": "3.11.0"
  },
  "source_map": [
   11,
   19,
   27,
   45,
   53,
   60,
   66,
   98,
   102,
   115,
   121,
   130,
   135,
   139,
   149,
   153
  ]
 },
 "nbformat": 4,
 "nbformat_minor": 5
}