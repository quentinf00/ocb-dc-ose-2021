{
 "cells": [
  {
   "cell_type": "markdown",
   "id": "02c0a59f",
   "metadata": {},
   "source": [
    "# Participating to the data challenge: applying, evaluating and submitting a method \n",
    "\n",
    "## Fetching the input data\n",
    "\n",
    "More detail in [](./ocb_dc_ose_2021_data.md)"
   ]
  },
  {
   "cell_type": "code",
   "execution_count": null,
   "id": "d4d054a7",
   "metadata": {
    "tags": [
     "scroll-output"
    ]
   },
   "outputs": [],
   "source": [
    "!dvc get https://github.com/quentinf00/ocb-dc-ose-2021.git datachallenge/data/prepared/input"
   ]
  },
  {
   "cell_type": "code",
   "execution_count": null,
   "id": "a09812a2",
   "metadata": {
    "tags": [
     "hide-input"
    ]
   },
   "outputs": [],
   "source": [
    "import xarray as xr\n",
    "obs = xr.open_mfdataset('input/*.nc', combine='nested',concat_dim='time')\n",
    "bin_size = 1/20\n",
    "(\n",
    "    obs.sel(time='2017-01-01').assign(\n",
    "        lat=obs.lat / bin_size // 1 * bin_size,\n",
    "        lon=obs.lon / bin_size // 1 * bin_size\n",
    "    )[['ssh', 'lat', 'lon']].load()\n",
    "    .drop_vars('time')\n",
    "    .to_dataframe()\n",
    "    .groupby(['lat', 'lon']).mean()\n",
    "    .to_xarray()\n",
    ").ssh.plot()"
   ]
  },
  {
   "cell_type": "markdown",
   "id": "e185cc12",
   "metadata": {},
   "source": [
    "### Applying my method: Basic optimal interpolation\n",
    "\n",
    "\n",
    "![oi shema](imgs/oi_doc.png)"
   ]
  },
  {
   "cell_type": "code",
   "execution_count": null,
   "id": "639be1f0",
   "metadata": {
    "tags": [
     "hide-cell"
    ]
   },
   "outputs": [],
   "source": [
    "# GIST: https://gist.github.com/quentinf00/2d034392ee9b385fb4de3c8628bfc8cache44\n",
    "!wget https://gist.githubusercontent.com/quentinf00/2d034392ee9b385fb4de3c8628bfc844/raw/4afecfce184a6e668def7ec3a99cb6cd4d612bdc/patcher_oi_torch.py"
   ]
  },
  {
   "cell_type": "markdown",
   "id": "22646713",
   "metadata": {},
   "source": [
    "<script src=\"https://gist.github.com/quentinf00/2d034392ee9b385fb4de3c8628bfc844.js\"></script>"
   ]
  },
  {
   "cell_type": "code",
   "execution_count": null,
   "id": "19890e75",
   "metadata": {
    "tags": [
     "scroll-output"
    ]
   },
   "outputs": [],
   "source": [
    "import numpy as np\n",
    "import xarray as xr\n",
    "import pandas as pd\n",
    "from functools import partial\n",
    "from xrpatcher import XRDAPatcher\n",
    "from patcher_oi_torch import oi\n",
    "\n",
    "\n",
    "outgrid = oi(\n",
    "        outgrid_da=xr.DataArray(\n",
    "            dims=('time', 'lat', 'lon'),\n",
    "            coords=dict(\n",
    "                time=pd.date_range(\"2017-01-01\", \"2017-12-31\"),\n",
    "                lat=np.arange(33, 43, 0.25),\n",
    "                lon=np.arange(-65, -55, 0.25),\n",
    "            ),\n",
    "        ),\n",
    "        patcher_cls=partial(XRDAPatcher,\n",
    "            patches=dict(time=5, lat=40, lon=40),\n",
    "            strides=dict(time=5, lat=40, lon=40)\n",
    "        ),\n",
    "        obs=obs.load(),\n",
    "        lt=pd.to_timedelta('7D'), lx=1., ly=1.,\n",
    "        noise=0.05,\n",
    "        obs_dt=pd.to_timedelta('1D'), obs_dx=0.25, obs_dy=0.25,\n",
    "        device='cuda'\n",
    "    )"
   ]
  },
  {
   "cell_type": "markdown",
   "id": "75671808",
   "metadata": {},
   "source": [
    "### Visualize results"
   ]
  },
  {
   "cell_type": "code",
   "execution_count": null,
   "id": "f77baa75",
   "metadata": {
    "tags": [
     "hide-input"
    ]
   },
   "outputs": [],
   "source": [
    "import ocn_tools._src.geoprocessing.geostrophic as geo\n",
    "(\n",
    "    outgrid.to_dataset(name='ssh')\n",
    "    .pipe(geo.geostrophic_velocities)\n",
    "    .pipe(geo.kinetic_energy)\n",
    "    .isel(time=slice(15, None, 30)\n",
    ").ke.plot(col='time', col_wrap=3, figsize=(7,10))\n",
    ")"
   ]
  },
  {
   "cell_type": "markdown",
   "id": "fa71a2fe",
   "metadata": {},
   "source": [
    "## Evaluate\n",
    "\n",
    "### Fetch reference data"
   ]
  },
  {
   "cell_type": "code",
   "execution_count": null,
   "id": "7c63e527",
   "metadata": {
    "tags": [
     "scroll-output"
    ]
   },
   "outputs": [],
   "source": [
    "%%bash\n",
    "dvc get  https://github.com/quentinf00/ocb-dc-ose-2021.git \\\n",
    "  datachallenge/data/prepared/ref \\\n",
    "  -o data/prepared/ref"
   ]
  },
  {
   "cell_type": "markdown",
   "id": "2c51c1d3",
   "metadata": {},
   "source": [
    "### Use the configured `ocb-dc_ose_2021-metrics`\n",
    "\n",
    "![metrics pipeline](imgs/metrics_doc.png)"
   ]
  },
  {
   "cell_type": "code",
   "execution_count": null,
   "id": "e467ad8b",
   "metadata": {},
   "outputs": [],
   "source": [
    "outgrid.to_dataset(name='ssh').to_netcdf('output.nc')"
   ]
  },
  {
   "cell_type": "code",
   "execution_count": null,
   "id": "4a257d45",
   "metadata": {},
   "outputs": [],
   "source": [
    "!ocb-dc_ose_2021-metrics --cfg job -p params"
   ]
  },
  {
   "cell_type": "code",
   "execution_count": null,
   "id": "5203545d",
   "metadata": {
    "tags": [
     "scroll-output"
    ]
   },
   "outputs": [],
   "source": [
    "!ocb-dc_ose_2021-metrics dry=True"
   ]
  },
  {
   "cell_type": "code",
   "execution_count": null,
   "id": "13f8317d",
   "metadata": {
    "tags": [
     "scroll-output"
    ]
   },
   "outputs": [],
   "source": [
    "%%bash\n",
    "ocb-dc_ose_2021-metrics params.study_path=output.nc \\\n",
    "    'to_run=[_03_interp_on_track,_04_1_lambdax,_04_2_mu]'"
   ]
  },
  {
   "cell_type": "code",
   "execution_count": null,
   "id": "54e1cda9",
   "metadata": {},
   "outputs": [],
   "source": [
    "import pandas as pd\n",
    "import glob\n",
    "print(pd.concat([pd.read_json(p, typ='series') for p in glob.glob('data/metrics/*.json')]).to_markdown())"
   ]
  },
  {
   "cell_type": "markdown",
   "id": "8a613955",
   "metadata": {},
   "source": [
    "## Submit method to datachallenge\n",
    "\n",
    "### Make your reconstruction public through a http link\n",
    "```bash\n",
    "aws s3 cp output.nc s3://melody/quentin_cloud/ocb_oi_demo.nc --acl public-read\n",
    "```\n",
    "\n",
    "### Commit to a branch `leaderboard/*` adding your method\n",
    "![](imgs/workflow_commit.png)\n",
    "\n",
    "### Leaderboard is automatically updated\n",
    "![](imgs/workflow_actions.png)\n",
    "![](imgs/workflow_lb.png)\n",
    "\n",
    "### Open your pull request"
   ]
  }
 ],
 "metadata": {
  "jupytext": {
   "text_representation": {
    "extension": ".md",
    "format_name": "myst",
    "format_version": 0.13,
    "jupytext_version": "1.16.1"
   }
  },
  "kernelspec": {
   "display_name": "OcbDocs",
   "name": "ocb-docs"
  },
  "source_map": [
   11,
   19,
   27,
   45,
   53,
   60,
   66,
   98,
   102,
   115,
   121,
   130,
   136,
   140,
   144,
   152,
   162,
   166
  ]
 },
 "nbformat": 4,
 "nbformat_minor": 5
}